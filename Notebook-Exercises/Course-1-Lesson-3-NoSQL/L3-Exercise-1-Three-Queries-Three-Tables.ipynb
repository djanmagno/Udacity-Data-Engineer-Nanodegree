{
 "cells": [
  {
   "cell_type": "markdown",
   "source": [
    "# Lesson 3 Exercise 1: Three Queries Three Tables\n",
    "<img src=\"images/cassandralogo.png\" width=\"250\" height=\"250\">"
   ],
   "metadata": {}
  },
  {
   "cell_type": "markdown",
   "source": [
    "### Walk through the basics of creating a table in Apache Cassandra, inserting rows of data, and doing a simple CQL query to validate the information. You will practice Denormalization, and the concept of 1 table per query, which is an encouraged practice with Apache Cassandra. \n",
    "\n",
    "### Remember, replace ##### with your answer."
   ],
   "metadata": {}
  },
  {
   "cell_type": "markdown",
   "source": [
    "#### We will use a python wrapper/ python driver called cassandra to run the Apache Cassandra queries. This library should be preinstalled but in the future to install this library you can run this command in a notebook to install locally: \n",
    "! pip install cassandra-driver\n",
    "#### More documentation can be found here:  https://datastax.github.io/python-driver/"
   ],
   "metadata": {}
  },
  {
   "cell_type": "markdown",
   "source": [
    "#### Import Apache Cassandra python package"
   ],
   "metadata": {}
  },
  {
   "cell_type": "code",
   "execution_count": 1,
   "source": [
    "import cassandra"
   ],
   "outputs": [],
   "metadata": {}
  },
  {
   "cell_type": "markdown",
   "source": [
    "### Create a connection to the database"
   ],
   "metadata": {}
  },
  {
   "cell_type": "code",
   "execution_count": 2,
   "source": [
    "from cassandra.cluster import Cluster\n",
    "try: \n",
    "    cluster = Cluster(['127.0.0.1']) #If you have a locally installed Apache Cassandra instance\n",
    "    session = cluster.connect()\n",
    "except Exception as e:\n",
    "    print(e)"
   ],
   "outputs": [],
   "metadata": {}
  },
  {
   "cell_type": "markdown",
   "source": [
    "### Create a keyspace to work in"
   ],
   "metadata": {}
  },
  {
   "cell_type": "code",
   "execution_count": 3,
   "source": [
    "try:\n",
    "    session.execute(\"\"\"\n",
    "    CREATE KEYSPACE IF NOT EXISTS udacity \n",
    "    WITH REPLICATION = \n",
    "    { 'class' : 'SimpleStrategy', 'replication_factor' : 1 }\"\"\"\n",
    ")\n",
    "\n",
    "except Exception as e:\n",
    "    print(e)"
   ],
   "outputs": [],
   "metadata": {}
  },
  {
   "cell_type": "markdown",
   "source": [
    "#### Connect to our Keyspace. Compare this to how we had to create a new session in PostgreSQL.  "
   ],
   "metadata": {}
  },
  {
   "cell_type": "code",
   "execution_count": 4,
   "source": [
    "try:\n",
    "    session.set_keyspace('udacity')\n",
    "except Exception as e:\n",
    "    print(e)"
   ],
   "outputs": [],
   "metadata": {}
  },
  {
   "cell_type": "markdown",
   "source": [
    "### Let's imagine we would like to start creating a Music Library of albums. \n",
    "\n",
    "### We want to ask 3 questions of the data\n",
    "#### 1. Give every album in the music library that was released in a given year\n",
    "`select * from music_library WHERE YEAR=1970`\n",
    "#### 2. Give every album in the music library that was created by a given artist  \n",
    "`select * from artist_library WHERE artist_name=\"The Beatles\"`\n",
    "#### 3. Give all the information from the music library about a given album\n",
    "`select * from album_library WHERE album_name=\"Close To You\"`\n"
   ],
   "metadata": {}
  },
  {
   "cell_type": "markdown",
   "source": [
    "### Because we want to do three different queries, we will need different tables that partition the data differently. \n",
    "<img src=\"images/table1.png\" width=\"350\" height=\"350\">\n",
    "<img src=\"images/table2.png\" width=\"350\" height=\"350\">\n",
    "<img src=\"images/table0.png\" width=\"550\" height=\"550\">"
   ],
   "metadata": {}
  },
  {
   "cell_type": "markdown",
   "source": [
    "### TO-DO: Create the tables. "
   ],
   "metadata": {}
  },
  {
   "cell_type": "code",
   "execution_count": 5,
   "source": [
    "query = \"CREATE TABLE IF NOT EXISTS music_library \"\n",
    "query = query + \"(year int, artist_name text, album_name text, PRIMARY KEY (year, artist_name))\"\n",
    "try:\n",
    "    session.execute(query)\n",
    "except Exception as e:\n",
    "    print(e)\n",
    "    \n",
    "query1 = \"CREATE TABLE IF NOT EXISTS artist_library \"\n",
    "query1 = query1 + \"(artist_name text, year int, album_name text, PRIMARY KEY (artist_name, year))\" \n",
    "\n",
    "try:\n",
    "    session.execute(query1)\n",
    "except Exception as e:\n",
    "    print(e)\n",
    "\n",
    "query2 = \"CREATE TABLE IF NOT EXISTS album_library \"\n",
    "query2 = query2 + \"(artist_name text, album_name text, year int, PRIMARY KEY (album_name, artist_name))\"\n",
    "try:\n",
    "    session.execute(query2)\n",
    "except Exception as e:\n",
    "    print(e)"
   ],
   "outputs": [],
   "metadata": {}
  },
  {
   "cell_type": "markdown",
   "source": [
    "### TO-DO: Insert data into the tables"
   ],
   "metadata": {}
  },
  {
   "cell_type": "code",
   "execution_count": 6,
   "source": [
    "query = \"INSERT INTO music_library (year, artist_name, album_name)\"\n",
    "query = query + \" VALUES (%s, %s, %s)\"\n",
    "\n",
    "query1 = \"INSERT INTO artist_library (artist_name, year, album_name)\"\n",
    "query1 = query1 + \" VALUES (%s, %s, %s)\"\n",
    "\n",
    "query2 = \"INSERT INTO album_library (album_name, artist_name, year)\"\n",
    "query2 = query2 + \" VALUES (%s, %s, %s)\"\n",
    "\n",
    "try:\n",
    "    session.execute(query, (1970, \"The Beatles\", \"Let it Be\"))\n",
    "except Exception as e:\n",
    "    print(e)\n",
    "    \n",
    "try:\n",
    "    session.execute(query, (1965, \"The Beatles\", \"Rubber Soul\"))\n",
    "except Exception as e:\n",
    "    print(e)\n",
    "    \n",
    "try:\n",
    "    session.execute(query, (1965, \"The Who\", \"My Generation\"))\n",
    "except Exception as e:\n",
    "    print(e)\n",
    "\n",
    "try:\n",
    "    session.execute(query, (1966, \"The Monkees\", \"The Monkees\"))\n",
    "except Exception as e:\n",
    "    print(e)\n",
    "\n",
    "try:\n",
    "    session.execute(query, (1970, \"The Carpenters\", \"Close To You\"))\n",
    "except Exception as e:\n",
    "    print(e)\n",
    "    \n",
    "try:\n",
    "    session.execute(query1, (\"The Beatles\", 1970, \"Let it Be\"))\n",
    "except Exception as e:\n",
    "    print(e)\n",
    "    \n",
    "try:\n",
    "    session.execute(query1, (\"The Beatles\", 1965, \"Rubber Soul\"))\n",
    "except Exception as e:\n",
    "    print(e)\n",
    "    \n",
    "try:\n",
    "    session.execute(query1, (\"The Who\", 1965, \"My Generation\"))\n",
    "except Exception as e:\n",
    "    print(e)\n",
    "\n",
    "try:\n",
    "    session.execute(query1, (\"The Monkees\", 1966, \"The Monkees\"))\n",
    "except Exception as e:\n",
    "    print(e)\n",
    "\n",
    "try:\n",
    "    session.execute(query1, (\"The Carpenters\", 1970, \"Close To You\"))\n",
    "except Exception as e:\n",
    "    print(e)\n",
    "    \n",
    "try:\n",
    "    session.execute(query2, (\"Let it Be\", \"The Beatles\", 1970))\n",
    "except Exception as e:\n",
    "    print(e)\n",
    "    \n",
    "try:\n",
    "    session.execute(query2, (\"Rubber Soul\", \"The Beatles\", 1965))\n",
    "except Exception as e:\n",
    "    print(e)\n",
    "    \n",
    "try:\n",
    "    session.execute(query2, (\"My Generation\", \"The Who\", 1965))\n",
    "except Exception as e:\n",
    "    print(e)\n",
    "\n",
    "try:\n",
    "    session.execute(query2, (\"The Monkees\", \"The Monkees\", 1966))\n",
    "except Exception as e:\n",
    "    print(e)\n",
    "\n",
    "try:\n",
    "    session.execute(query2, (\"Close To You\", \"The Carpenters\", 1970))\n",
    "except Exception as e:\n",
    "    print(e)"
   ],
   "outputs": [],
   "metadata": {}
  },
  {
   "cell_type": "markdown",
   "source": [
    "This might have felt unnatural to insert duplicate data into the tables. If I just normalized these tables, I wouldn't have to have extra copies! While this is true, remember there are no `JOINS` in Apache Cassandra. For the benefit of high availibity and scalabity, denormalization must be how this is done. \n"
   ],
   "metadata": {}
  },
  {
   "cell_type": "markdown",
   "source": [
    "### TO-DO: Validate the Data Model"
   ],
   "metadata": {}
  },
  {
   "cell_type": "code",
   "execution_count": 17,
   "source": [
    "query = \"select * from  music_library WHERE year = 1970 ALLOW FILTERING\"\n",
    "try:\n",
    "    rows = session.execute(query)\n",
    "except Exception as e:\n",
    "    print(e)\n",
    "    \n",
    "for row in rows:\n",
    "    print (row.year, row.artist_name, row.album_name)"
   ],
   "outputs": [
    {
     "output_type": "stream",
     "name": "stdout",
     "text": [
      "1970 The Beatles Let it Be\n",
      "1970 The Carpenters Close To You\n"
     ]
    }
   ],
   "metadata": {}
  },
  {
   "cell_type": "markdown",
   "source": [
    "### Your output should be:\n",
    "1970 The Beatles Let it Be<br>\n",
    "1970 The Carpenters Close To You"
   ],
   "metadata": {}
  },
  {
   "cell_type": "markdown",
   "source": [
    "### TO-DO: Validate the Data Model"
   ],
   "metadata": {}
  },
  {
   "cell_type": "code",
   "execution_count": 18,
   "source": [
    "query = \"select * from artist_library WHERE artist_name = 'The Beatles' ALLOW FILTERING\"\n",
    "try:\n",
    "    rows = session.execute(query)\n",
    "except Exception as e:\n",
    "    print(e)\n",
    "    \n",
    "for row in rows:\n",
    "    print (row.artist_name, row.album_name, row.year)"
   ],
   "outputs": [
    {
     "output_type": "stream",
     "name": "stdout",
     "text": [
      "The Beatles Let it Be 1970\n",
      "The Beatles Rubber Soul 1965\n"
     ]
    }
   ],
   "metadata": {}
  },
  {
   "cell_type": "markdown",
   "source": [
    "### Your output should be:\n",
    "The Beatles Rubber Soul 1965 <br>\n",
    "The Beatles Let it Be 1970 "
   ],
   "metadata": {}
  },
  {
   "cell_type": "markdown",
   "source": [
    "### TO-DO: Validate the Data Model"
   ],
   "metadata": {}
  },
  {
   "cell_type": "code",
   "execution_count": 19,
   "source": [
    "query = \"select * from album_library WHERE album_name = 'Close To You' ALLOW FILTERING\"\n",
    "try:\n",
    "    rows = session.execute(query)\n",
    "except Exception as e:\n",
    "    print(e)\n",
    "    \n",
    "for row in rows:\n",
    "    print (row.artist_name, row.year, row.album_name)"
   ],
   "outputs": [
    {
     "output_type": "stream",
     "name": "stdout",
     "text": [
      "The Carpenters 1970 Close To You\n"
     ]
    }
   ],
   "metadata": {}
  },
  {
   "cell_type": "markdown",
   "source": [
    "### Your output should be:\n",
    "The Carpenters 1970 Close To You"
   ],
   "metadata": {}
  },
  {
   "cell_type": "markdown",
   "source": [
    "### And finally close the session and cluster connection"
   ],
   "metadata": {}
  },
  {
   "cell_type": "code",
   "execution_count": 20,
   "source": [
    "session.shutdown()\n",
    "cluster.shutdown()"
   ],
   "outputs": [],
   "metadata": {}
  },
  {
   "cell_type": "code",
   "execution_count": null,
   "source": [],
   "outputs": [],
   "metadata": {}
  }
 ],
 "metadata": {
  "kernelspec": {
   "display_name": "Python 3",
   "language": "python",
   "name": "python3"
  },
  "language_info": {
   "codemirror_mode": {
    "name": "ipython",
    "version": 3
   },
   "file_extension": ".py",
   "mimetype": "text/x-python",
   "name": "python",
   "nbconvert_exporter": "python",
   "pygments_lexer": "ipython3",
   "version": "3.6.3"
  }
 },
 "nbformat": 4,
 "nbformat_minor": 2
}